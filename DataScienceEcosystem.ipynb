{
 "cells": [
  {
   "cell_type": "markdown",
   "metadata": {},
   "source": [
    "<center>\n",
    "    <img src=\"https://cf-courses-data.s3.us.cloud-object-storage.appdomain.cloud/IBMDeveloperSkillsNetwork-DS0105EN-SkillsNetwork/labs/Module2/images/SN_web_lightmode.png\" width=\"300\" alt=\"cognitiveclass.ai logo\">\n",
    "</center>\n"
   ]
  },
  {
   "cell_type": "markdown",
   "metadata": {},
   "source": [
    "# Data Science Notebook\n"
   ]
  },
  {
   "cell_type": "markdown",
   "metadata": {},
   "source": [
    "# Data Science Notebook\n"
   ]
  },
  {
   "cell_type": "markdown",
   "metadata": {},
   "source": [
    "## Introduction\n",
    "This notebook is a collection of information and examples related to data science. It covers programming languages, libraries, tools, and basic operations commonly used in data science."
   ]
  },
  {
   "cell_type": "markdown",
   "metadata": {},
   "source": [
    "### Data Science Languages\n",
    "- Python\n",
    "- R\n",
    "- SQL\n",
    "- Julia\n",
    "- Scala\n",
    "- Java (for big data frameworks)\n",
    "- JavaScript (for visualization)"
   ]
  },
  {
   "cell_type": "markdown",
   "metadata": {},
   "source": [
    "### Data Science Libraries\n",
    "- Pandas (Python)\n",
    "- NumPy (Python)\n",
    "- Scikit-learn (Python)\n",
    "- TensorFlow/PyTorch (Python)\n",
    "- Matplotlib/Seaborn (Python)\n",
    "- ggplot2 (R)\n",
    "- dplyr (R)\n",
    "- caret (R)"
   ]
  },
  {
   "cell_type": "markdown",
   "metadata": {},
   "source": [
    "### Data Science Tools\n",
    "| Tool | Category | Description |\n",
    "|------|----------|-------------|\n",
    "| Jupyter Notebook | Development Environment | Interactive computing environment |\n",
    "| VS Code | IDE | Code editor with data science extensions |\n",
    "| Tableau | Visualization | Business intelligence and analytics platform |\n",
    "| Apache Spark | Big Data Processing | Distributed computing framework |\n",
    "| Hadoop | Big Data Storage | Distributed storage and processing |\n",
    "| Git | Version Control | Source code management |"
   ]
  },
  {
   "cell_type": "markdown",
   "metadata": {},
   "source": [
    "### Arithmetic Expression Examples\n",
    "#Below are examples of basic arithmetic operations in Python:\n",
    "- Addition: `5 + 3`\n",
    "- Multiplication: `4 * 6`\n",
    "- Division: `10 / 2`\n",
    "- Exponentiation: `2 ** 3`"
   ]
  },
  {
   "cell_type": "code",
   "execution_count": 4,
   "metadata": {},
   "outputs": [
    {
     "name": "stdout",
     "output_type": "stream",
     "text": [
      "Product of 5 and 7 is: 35\n",
      "Sum of 5 and 7 is: 12\n"
     ]
    }
   ],
   "source": [
    "# Multiply and add numbers\n",
    "a = 5\n",
    "b = 7\n",
    "product = a * b\n",
    "sum = a + b\n",
    "\n",
    "print(f\"Product of {a} and {b} is: {product}\")\n",
    "print(f\"Sum of {a} and {b} is: {sum}\")"
   ]
  },
  {
   "cell_type": "code",
   "execution_count": 5,
   "metadata": {},
   "outputs": [
    {
     "name": "stdout",
     "output_type": "stream",
     "text": [
      "150 minutes is equal to 2.50 hours\n"
     ]
    }
   ],
   "source": [
    "# Convert minutes to hours\n",
    "minutes = 150\n",
    "hours = minutes / 60\n",
    "\n",
    "print(f\"{minutes} minutes is equal to {hours:.2f} hours\")"
   ]
  },
  {
   "cell_type": "markdown",
   "metadata": {},
   "source": [
    "### Objectives\n",
    "- List popular data science languages\n",
    "- Identify commonly used data science libraries\n",
    "- Demonstrate basic arithmetic operations in Python\n",
    "- Show conversion between different units\n",
    "- Provide an overview of data science tools\n",
    "- Create a well-structured Jupyter notebook"
   ]
  },
  {
   "cell_type": "markdown",
   "metadata": {},
   "source": [
    "### Author\n",
    "Shashank Singh"
   ]
  }
 ],
 "metadata": {
  "kernelspec": {
   "display_name": "Python 3 (ipykernel)",
   "language": "python",
   "name": "python3"
  },
  "language_info": {
   "codemirror_mode": {
    "name": "ipython",
    "version": 3
   },
   "file_extension": ".py",
   "mimetype": "text/x-python",
   "name": "python",
   "nbconvert_exporter": "python",
   "pygments_lexer": "ipython3",
   "version": "3.12.8"
  }
 },
 "nbformat": 4,
 "nbformat_minor": 4
}
